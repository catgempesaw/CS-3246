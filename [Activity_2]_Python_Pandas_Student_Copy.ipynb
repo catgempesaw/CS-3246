{
  "cells": [
    {
      "cell_type": "markdown",
      "metadata": {
        "id": "nrxbKKJZtPzj"
      },
      "source": [
        "# **Activity 2: Python-Pandas Exercise**\n",
        "\n",
        "Objectives:\n",
        "- Understand Python syntax (variables, loops, functions).\n",
        "- Learn Pandas basics (Series, DataFrames, reading files).\n",
        "- Perform data cleaning (handling missing values, correcting formats, removing duplicates).\n",
        "- Apply concepts in a real-world case study."
      ]
    },
    {
      "cell_type": "markdown",
      "metadata": {
        "id": "FNQbxlCPtvXZ"
      },
      "source": [
        "# Part 1: Hands-on Python & Pandas Basics"
      ]
    },
    {
      "cell_type": "markdown",
      "metadata": {
        "id": "vH2WqeaY38NC"
      },
      "source": [
        "1. Install the Pandas library in your environment."
      ]
    },
    {
      "cell_type": "code",
      "execution_count": 1,
      "metadata": {
        "id": "GPhWF_2u5Qxy"
      },
      "outputs": [],
      "source": [
        "import pandas"
      ]
    },
    {
      "cell_type": "markdown",
      "metadata": {
        "id": "dZC17Lf1zT3Q"
      },
      "source": [
        "2. Import the  pandas package under the name `pd`"
      ]
    },
    {
      "cell_type": "code",
      "execution_count": 2,
      "metadata": {
        "id": "lR6fv9XE3Pw3"
      },
      "outputs": [],
      "source": [
        "import pandas as pd"
      ]
    },
    {
      "cell_type": "markdown",
      "metadata": {
        "id": "hO_MlGtx3Wj5"
      },
      "source": [
        "3. Print the pandas version"
      ]
    },
    {
      "cell_type": "code",
      "execution_count": 3,
      "metadata": {
        "id": "Y4lcL4Nb3SrJ"
      },
      "outputs": [
        {
          "name": "stdout",
          "output_type": "stream",
          "text": [
            "2.2.3\n"
          ]
        }
      ],
      "source": [
        "print(pd.__version__)"
      ]
    },
    {
      "cell_type": "markdown",
      "metadata": {
        "id": "QWJFiRZ03pwH"
      },
      "source": [
        "4. Create a variable `x` with the value 10 and a string variable `y` with \"Fortes in Fide!\""
      ]
    },
    {
      "cell_type": "code",
      "execution_count": 4,
      "metadata": {
        "id": "QCkALKg_3vig"
      },
      "outputs": [],
      "source": [
        "x = 10\n",
        "y = \"Fortes in Fide!\""
      ]
    },
    {
      "cell_type": "markdown",
      "metadata": {
        "id": "zBzRK3sY5Wfh"
      },
      "source": [
        "5. Define a list with numbers `[1, 2, 3, 4, 5]` and a dictionary with keys `name` and `age`"
      ]
    },
    {
      "cell_type": "code",
      "execution_count": 5,
      "metadata": {
        "id": "s8Zg7dgz5XPA"
      },
      "outputs": [
        {
          "name": "stdout",
          "output_type": "stream",
          "text": [
            "     name  age\n",
            "0  Cassey   23\n",
            "1     Job   12\n",
            "2   Avril   76\n",
            "3  Pretty   24\n",
            "4     Arj   67\n"
          ]
        }
      ],
      "source": [
        "\n",
        "list = {\n",
        "    \"name\": [\"Cassey\", \"Job\", \"Avril\", \"Pretty\", \"Arj\"],\n",
        "    \"age\": [23, 12, 76, 24, 67]\n",
        "}\n",
        "\n",
        "df = pandas.DataFrame(list)\n",
        "print(df)"
      ]
    },
    {
      "cell_type": "markdown",
      "metadata": {
        "id": "gbsHcq7w5hE2"
      },
      "source": [
        "6. Write a function `greet(name)` that returns \"Magis, (name)\"!"
      ]
    },
    {
      "cell_type": "code",
      "execution_count": 6,
      "metadata": {
        "id": "LHKMev_a5mJX"
      },
      "outputs": [
        {
          "name": "stdout",
          "output_type": "stream",
          "text": [
            "Magis, Job !\n"
          ]
        }
      ],
      "source": [
        "def greet(name):\n",
        "    print(\"Magis,\", name,\"!\")\n",
        "\n",
        "greet(\"Job\")\n"
      ]
    },
    {
      "cell_type": "markdown",
      "metadata": {
        "id": "d_UBbRZKYBFF"
      },
      "source": [
        "7. Write a Python function that takes a user’s name as input and prints a personalized greeting."
      ]
    },
    {
      "cell_type": "code",
      "execution_count": 7,
      "metadata": {
        "id": "-8T6ocVeYCnD"
      },
      "outputs": [
        {
          "name": "stdout",
          "output_type": "stream",
          "text": [
            "Hello Job, welcome to Siargao!\n"
          ]
        }
      ],
      "source": [
        "def greet(name):\n",
        "    print(\"Hello\",name + \", welcome to Siargao!\")\n",
        "\n",
        "\n",
        "name = input(\"Enter name: \")\n",
        "\n",
        "greet(name)"
      ]
    },
    {
      "cell_type": "markdown",
      "metadata": {
        "id": "0GEjHQ-PYRj2"
      },
      "source": [
        "8. Modify **Number 7** that if the user does not enter a name, it defaults to \"Guest\"."
      ]
    },
    {
      "cell_type": "code",
      "execution_count": 8,
      "metadata": {
        "id": "rYfMyyQeYbf6"
      },
      "outputs": [
        {
          "name": "stdout",
          "output_type": "stream",
          "text": [
            "Hello Guest, welcome to Siargao!\n"
          ]
        }
      ],
      "source": [
        "name = input(\"Enter Name: \")\n",
        "\n",
        "if not name:\n",
        "    name = \"Guest\"\n",
        "\n",
        "greet(name)\n"
      ]
    },
    {
      "cell_type": "markdown",
      "metadata": {
        "id": "OG-Ubf3259sb"
      },
      "source": [
        "9. Create a Pandas Series from `[10, 20, 30, 40]`."
      ]
    },
    {
      "cell_type": "code",
      "execution_count": 9,
      "metadata": {
        "id": "oGThKfqQ5-sj"
      },
      "outputs": [
        {
          "name": "stdout",
          "output_type": "stream",
          "text": [
            "0    10\n",
            "1    20\n",
            "2    30\n",
            "3    40\n",
            "dtype: int64\n"
          ]
        }
      ],
      "source": [
        "list = [10, 20, 30, 40]\n",
        "\n",
        "mv = pd.Series(list)\n",
        "\n",
        "print(mv)"
      ]
    },
    {
      "cell_type": "markdown",
      "metadata": {
        "id": "DeSr_ozS6Wc5"
      },
      "source": [
        "10.  Create a DataFrame with columns `A` and `B`."
      ]
    },
    {
      "cell_type": "code",
      "execution_count": 10,
      "metadata": {
        "id": "ytbYen7w6Mmv"
      },
      "outputs": [
        {
          "name": "stdout",
          "output_type": "stream",
          "text": [
            "   A    B\n",
            "0  1  100\n",
            "1  2  200\n",
            "2  3  300\n",
            "3  4  400\n"
          ]
        }
      ],
      "source": [
        "list = {\n",
        "    \"A\": [1, 2, 3, 4],\n",
        "    \"B\": [100, 200, 300, 400]\n",
        "}\n",
        "\n",
        "mv = pd.DataFrame(list)\n",
        "\n",
        "print(mv)"
      ]
    },
    {
      "cell_type": "markdown",
      "metadata": {
        "id": "7mAive8s7kfU"
      },
      "source": [
        "# Part 2: Working with a Dataset 🛥️"
      ]
    },
    {
      "cell_type": "markdown",
      "metadata": {
        "id": "u6daMs_F8SPx"
      },
      "source": [
        "1. Load the Titanic dataset from a local file and display the first five rows."
      ]
    },
    {
      "cell_type": "code",
      "execution_count": 11,
      "metadata": {
        "id": "zi-ufFmj9e4h"
      },
      "outputs": [
        {
          "name": "stdout",
          "output_type": "stream",
          "text": [
            "   PassengerId  Survived  Pclass  \\\n",
            "0          892         0       3   \n",
            "1          893         1       3   \n",
            "2          894         0       2   \n",
            "3          895         0       3   \n",
            "4          896         1       3   \n",
            "\n",
            "                                           Name     Sex   Age  SibSp  Parch  \\\n",
            "0                              Kelly, Mr. James    male  34.5      0      0   \n",
            "1              Wilkes, Mrs. James (Ellen Needs)  female  47.0      1      0   \n",
            "2                     Myles, Mr. Thomas Francis    male  62.0      0      0   \n",
            "3                              Wirz, Mr. Albert    male  27.0      0      0   \n",
            "4  Hirvonen, Mrs. Alexander (Helga E Lindqvist)  female  22.0      1      1   \n",
            "\n",
            "    Ticket     Fare Cabin Embarked  \n",
            "0   330911   7.8292   NaN        Q  \n",
            "1   363272   7.0000   NaN        S  \n",
            "2   240276   9.6875   NaN        Q  \n",
            "3   315154   8.6625   NaN        S  \n",
            "4  3101298  12.2875   NaN        S  \n"
          ]
        }
      ],
      "source": [
        "titanic = pd.read_csv('titanic_dataset.csv')\n",
        "print(titanic.head())"
      ]
    },
    {
      "cell_type": "markdown",
      "metadata": {
        "id": "405AKURC9sqB"
      },
      "source": [
        "2. Display the dataset's column names, data types."
      ]
    },
    {
      "cell_type": "code",
      "execution_count": 12,
      "metadata": {
        "id": "88-8AT8W9uaI"
      },
      "outputs": [
        {
          "name": "stdout",
          "output_type": "stream",
          "text": [
            "Index(['PassengerId', 'Survived', 'Pclass', 'Name', 'Sex', 'Age', 'SibSp',\n",
            "       'Parch', 'Ticket', 'Fare', 'Cabin', 'Embarked'],\n",
            "      dtype='object')\n"
          ]
        }
      ],
      "source": [
        "print(titanic.columns)"
      ]
    },
    {
      "cell_type": "markdown",
      "metadata": {
        "id": "Eh9FsKUx9-8S"
      },
      "source": [
        "3. Display the dataset's missing values."
      ]
    },
    {
      "cell_type": "code",
      "execution_count": 13,
      "metadata": {
        "id": "olw7wFVH9-rG"
      },
      "outputs": [
        {
          "name": "stdout",
          "output_type": "stream",
          "text": [
            "     PassengerId  Survived  Pclass   Name    Sex    Age  SibSp  Parch  Ticket  \\\n",
            "0          False     False   False  False  False  False  False  False   False   \n",
            "1          False     False   False  False  False  False  False  False   False   \n",
            "2          False     False   False  False  False  False  False  False   False   \n",
            "3          False     False   False  False  False  False  False  False   False   \n",
            "4          False     False   False  False  False  False  False  False   False   \n",
            "..           ...       ...     ...    ...    ...    ...    ...    ...     ...   \n",
            "413        False     False   False  False  False   True  False  False   False   \n",
            "414        False     False   False  False  False  False  False  False   False   \n",
            "415        False     False   False  False  False  False  False  False   False   \n",
            "416        False     False   False  False  False   True  False  False   False   \n",
            "417        False     False   False  False  False   True  False  False   False   \n",
            "\n",
            "      Fare  Cabin  Embarked  \n",
            "0    False   True     False  \n",
            "1    False   True     False  \n",
            "2    False   True     False  \n",
            "3    False   True     False  \n",
            "4    False   True     False  \n",
            "..     ...    ...       ...  \n",
            "413  False   True     False  \n",
            "414  False  False     False  \n",
            "415  False   True     False  \n",
            "416  False   True     False  \n",
            "417  False   True     False  \n",
            "\n",
            "[418 rows x 12 columns]\n"
          ]
        }
      ],
      "source": [
        "print(titanic.isnull())"
      ]
    },
    {
      "cell_type": "markdown",
      "metadata": {
        "id": "lNAGBAXv-LXs"
      },
      "source": [
        "4. Display the `Name`, `Age`, and `Fare` columns from the dataset. (first 10)"
      ]
    },
    {
      "cell_type": "code",
      "execution_count": 14,
      "metadata": {
        "id": "LNRu6hI7-dUV"
      },
      "outputs": [
        {
          "name": "stdout",
          "output_type": "stream",
          "text": [
            "                                           Name   Age     Fare\n",
            "0                              Kelly, Mr. James  34.5   7.8292\n",
            "1              Wilkes, Mrs. James (Ellen Needs)  47.0   7.0000\n",
            "2                     Myles, Mr. Thomas Francis  62.0   9.6875\n",
            "3                              Wirz, Mr. Albert  27.0   8.6625\n",
            "4  Hirvonen, Mrs. Alexander (Helga E Lindqvist)  22.0  12.2875\n",
            "5                    Svensson, Mr. Johan Cervin  14.0   9.2250\n",
            "6                          Connolly, Miss. Kate  30.0   7.6292\n",
            "7                  Caldwell, Mr. Albert Francis  26.0  29.0000\n",
            "8     Abrahim, Mrs. Joseph (Sophie Halaut Easu)  18.0   7.2292\n",
            "9                       Davies, Mr. John Samuel  21.0  24.1500\n"
          ]
        }
      ],
      "source": [
        "print(titanic[[\"Name\", \"Age\", \"Fare\"]].head(10))"
      ]
    },
    {
      "cell_type": "markdown",
      "metadata": {
        "id": "z2iFTTa2-nAv"
      },
      "source": [
        " 5. Print the descriptive statistics of the Titanic dataset."
      ]
    },
    {
      "cell_type": "code",
      "execution_count": 15,
      "metadata": {
        "id": "VvurbDoL-xJE"
      },
      "outputs": [
        {
          "name": "stdout",
          "output_type": "stream",
          "text": [
            "       PassengerId    Survived      Pclass         Age       SibSp  \\\n",
            "count   418.000000  418.000000  418.000000  332.000000  418.000000   \n",
            "mean   1100.500000    0.363636    2.265550   30.272590    0.447368   \n",
            "std     120.810458    0.481622    0.841838   14.181209    0.896760   \n",
            "min     892.000000    0.000000    1.000000    0.170000    0.000000   \n",
            "25%     996.250000    0.000000    1.000000   21.000000    0.000000   \n",
            "50%    1100.500000    0.000000    3.000000   27.000000    0.000000   \n",
            "75%    1204.750000    1.000000    3.000000   39.000000    1.000000   \n",
            "max    1309.000000    1.000000    3.000000   76.000000    8.000000   \n",
            "\n",
            "            Parch        Fare  \n",
            "count  418.000000  417.000000  \n",
            "mean     0.392344   35.627188  \n",
            "std      0.981429   55.907576  \n",
            "min      0.000000    0.000000  \n",
            "25%      0.000000    7.895800  \n",
            "50%      0.000000   14.454200  \n",
            "75%      0.000000   31.500000  \n",
            "max      9.000000  512.329200  \n"
          ]
        }
      ],
      "source": [
        "print(titanic.describe())"
      ]
    },
    {
      "cell_type": "markdown",
      "metadata": {
        "id": "U95dijMI-9x1"
      },
      "source": [
        "6. Remove rows with missing values in the `Age` column."
      ]
    },
    {
      "cell_type": "code",
      "execution_count": 16,
      "metadata": {
        "id": "mMKNND-E_jnL"
      },
      "outputs": [
        {
          "name": "stdout",
          "output_type": "stream",
          "text": [
            "     PassengerId  Survived  Pclass  \\\n",
            "0            892         0       3   \n",
            "1            893         1       3   \n",
            "2            894         0       2   \n",
            "3            895         0       3   \n",
            "4            896         1       3   \n",
            "..           ...       ...     ...   \n",
            "409         1301         1       3   \n",
            "411         1303         1       1   \n",
            "412         1304         1       3   \n",
            "414         1306         1       1   \n",
            "415         1307         0       3   \n",
            "\n",
            "                                                Name     Sex   Age  SibSp  \\\n",
            "0                                   Kelly, Mr. James    male  34.5      0   \n",
            "1                   Wilkes, Mrs. James (Ellen Needs)  female  47.0      1   \n",
            "2                          Myles, Mr. Thomas Francis    male  62.0      0   \n",
            "3                                   Wirz, Mr. Albert    male  27.0      0   \n",
            "4       Hirvonen, Mrs. Alexander (Helga E Lindqvist)  female  22.0      1   \n",
            "..                                               ...     ...   ...    ...   \n",
            "409                        Peacock, Miss. Treasteall  female   3.0      1   \n",
            "411  Minahan, Mrs. William Edward (Lillian E Thorpe)  female  37.0      1   \n",
            "412                   Henriksson, Miss. Jenny Lovisa  female  28.0      0   \n",
            "414                     Oliva y Ocana, Dona. Fermina  female  39.0      0   \n",
            "415                     Saether, Mr. Simon Sivertsen    male  38.5      0   \n",
            "\n",
            "     Parch              Ticket      Fare Cabin Embarked  \n",
            "0        0              330911    7.8292   NaN        Q  \n",
            "1        0              363272    7.0000   NaN        S  \n",
            "2        0              240276    9.6875   NaN        Q  \n",
            "3        0              315154    8.6625   NaN        S  \n",
            "4        1             3101298   12.2875   NaN        S  \n",
            "..     ...                 ...       ...   ...      ...  \n",
            "409      1  SOTON/O.Q. 3101315   13.7750   NaN        S  \n",
            "411      0               19928   90.0000   C78        Q  \n",
            "412      0              347086    7.7750   NaN        S  \n",
            "414      0            PC 17758  108.9000  C105        C  \n",
            "415      0  SOTON/O.Q. 3101262    7.2500   NaN        S  \n",
            "\n",
            "[332 rows x 12 columns]\n"
          ]
        }
      ],
      "source": [
        "print(titanic.dropna(subset=[\"Age\"]))"
      ]
    },
    {
      "cell_type": "markdown",
      "metadata": {
        "id": "U-2X_e-fFHI5"
      },
      "source": [
        "7. Remove duplicate rows from the dataset."
      ]
    },
    {
      "cell_type": "code",
      "execution_count": 17,
      "metadata": {
        "id": "l2X-ym9eFIT-"
      },
      "outputs": [
        {
          "name": "stdout",
          "output_type": "stream",
          "text": [
            "     PassengerId  Survived  Pclass  \\\n",
            "0            892         0       3   \n",
            "1            893         1       3   \n",
            "2            894         0       2   \n",
            "3            895         0       3   \n",
            "4            896         1       3   \n",
            "..           ...       ...     ...   \n",
            "413         1305         0       3   \n",
            "414         1306         1       1   \n",
            "415         1307         0       3   \n",
            "416         1308         0       3   \n",
            "417         1309         0       3   \n",
            "\n",
            "                                             Name     Sex   Age  SibSp  Parch  \\\n",
            "0                                Kelly, Mr. James    male  34.5      0      0   \n",
            "1                Wilkes, Mrs. James (Ellen Needs)  female  47.0      1      0   \n",
            "2                       Myles, Mr. Thomas Francis    male  62.0      0      0   \n",
            "3                                Wirz, Mr. Albert    male  27.0      0      0   \n",
            "4    Hirvonen, Mrs. Alexander (Helga E Lindqvist)  female  22.0      1      1   \n",
            "..                                            ...     ...   ...    ...    ...   \n",
            "413                            Spector, Mr. Woolf    male   NaN      0      0   \n",
            "414                  Oliva y Ocana, Dona. Fermina  female  39.0      0      0   \n",
            "415                  Saether, Mr. Simon Sivertsen    male  38.5      0      0   \n",
            "416                           Ware, Mr. Frederick    male   NaN      0      0   \n",
            "417                      Peter, Master. Michael J    male   NaN      1      1   \n",
            "\n",
            "                 Ticket      Fare Cabin Embarked  \n",
            "0                330911    7.8292   NaN        Q  \n",
            "1                363272    7.0000   NaN        S  \n",
            "2                240276    9.6875   NaN        Q  \n",
            "3                315154    8.6625   NaN        S  \n",
            "4               3101298   12.2875   NaN        S  \n",
            "..                  ...       ...   ...      ...  \n",
            "413           A.5. 3236    8.0500   NaN        S  \n",
            "414            PC 17758  108.9000  C105        C  \n",
            "415  SOTON/O.Q. 3101262    7.2500   NaN        S  \n",
            "416              359309    8.0500   NaN        S  \n",
            "417                2668   22.3583   NaN        C  \n",
            "\n",
            "[418 rows x 12 columns]\n"
          ]
        }
      ],
      "source": [
        "print(titanic.drop_duplicates())"
      ]
    },
    {
      "cell_type": "markdown",
      "metadata": {
        "id": "b-SvrKnKFL1m"
      },
      "source": [
        "8. Compute and display the correlation matrix of the dataset."
      ]
    },
    {
      "cell_type": "code",
      "execution_count": 18,
      "metadata": {},
      "outputs": [
        {
          "ename": "ValueError",
          "evalue": "could not convert string to float: 'Kelly, Mr. James'",
          "output_type": "error",
          "traceback": [
            "\u001b[0;31m---------------------------------------------------------------------------\u001b[0m",
            "\u001b[0;31mValueError\u001b[0m                                Traceback (most recent call last)",
            "Cell \u001b[0;32mIn[18], line 1\u001b[0m\n\u001b[0;32m----> 1\u001b[0m \u001b[38;5;28mprint\u001b[39m(\u001b[43mtitanic\u001b[49m\u001b[38;5;241;43m.\u001b[39;49m\u001b[43mcorr\u001b[49m\u001b[43m(\u001b[49m\u001b[43m)\u001b[49m)\n\u001b[1;32m      2\u001b[0m \u001b[38;5;66;03m#The code titanic.corr() causes an error because the columns of the given dataset have different data types. For example, Name is a string while the fare is a float.\u001b[39;00m\n",
            "File \u001b[0;32m~/Documents/Machine Learning 1/.venv/lib/python3.11/site-packages/pandas/core/frame.py:11049\u001b[0m, in \u001b[0;36mDataFrame.corr\u001b[0;34m(self, method, min_periods, numeric_only)\u001b[0m\n\u001b[1;32m  11047\u001b[0m cols \u001b[38;5;241m=\u001b[39m data\u001b[38;5;241m.\u001b[39mcolumns\n\u001b[1;32m  11048\u001b[0m idx \u001b[38;5;241m=\u001b[39m cols\u001b[38;5;241m.\u001b[39mcopy()\n\u001b[0;32m> 11049\u001b[0m mat \u001b[38;5;241m=\u001b[39m \u001b[43mdata\u001b[49m\u001b[38;5;241;43m.\u001b[39;49m\u001b[43mto_numpy\u001b[49m\u001b[43m(\u001b[49m\u001b[43mdtype\u001b[49m\u001b[38;5;241;43m=\u001b[39;49m\u001b[38;5;28;43mfloat\u001b[39;49m\u001b[43m,\u001b[49m\u001b[43m \u001b[49m\u001b[43mna_value\u001b[49m\u001b[38;5;241;43m=\u001b[39;49m\u001b[43mnp\u001b[49m\u001b[38;5;241;43m.\u001b[39;49m\u001b[43mnan\u001b[49m\u001b[43m,\u001b[49m\u001b[43m \u001b[49m\u001b[43mcopy\u001b[49m\u001b[38;5;241;43m=\u001b[39;49m\u001b[38;5;28;43;01mFalse\u001b[39;49;00m\u001b[43m)\u001b[49m\n\u001b[1;32m  11051\u001b[0m \u001b[38;5;28;01mif\u001b[39;00m method \u001b[38;5;241m==\u001b[39m \u001b[38;5;124m\"\u001b[39m\u001b[38;5;124mpearson\u001b[39m\u001b[38;5;124m\"\u001b[39m:\n\u001b[1;32m  11052\u001b[0m     correl \u001b[38;5;241m=\u001b[39m libalgos\u001b[38;5;241m.\u001b[39mnancorr(mat, minp\u001b[38;5;241m=\u001b[39mmin_periods)\n",
            "File \u001b[0;32m~/Documents/Machine Learning 1/.venv/lib/python3.11/site-packages/pandas/core/frame.py:1993\u001b[0m, in \u001b[0;36mDataFrame.to_numpy\u001b[0;34m(self, dtype, copy, na_value)\u001b[0m\n\u001b[1;32m   1991\u001b[0m \u001b[38;5;28;01mif\u001b[39;00m dtype \u001b[38;5;129;01mis\u001b[39;00m \u001b[38;5;129;01mnot\u001b[39;00m \u001b[38;5;28;01mNone\u001b[39;00m:\n\u001b[1;32m   1992\u001b[0m     dtype \u001b[38;5;241m=\u001b[39m np\u001b[38;5;241m.\u001b[39mdtype(dtype)\n\u001b[0;32m-> 1993\u001b[0m result \u001b[38;5;241m=\u001b[39m \u001b[38;5;28;43mself\u001b[39;49m\u001b[38;5;241;43m.\u001b[39;49m\u001b[43m_mgr\u001b[49m\u001b[38;5;241;43m.\u001b[39;49m\u001b[43mas_array\u001b[49m\u001b[43m(\u001b[49m\u001b[43mdtype\u001b[49m\u001b[38;5;241;43m=\u001b[39;49m\u001b[43mdtype\u001b[49m\u001b[43m,\u001b[49m\u001b[43m \u001b[49m\u001b[43mcopy\u001b[49m\u001b[38;5;241;43m=\u001b[39;49m\u001b[43mcopy\u001b[49m\u001b[43m,\u001b[49m\u001b[43m \u001b[49m\u001b[43mna_value\u001b[49m\u001b[38;5;241;43m=\u001b[39;49m\u001b[43mna_value\u001b[49m\u001b[43m)\u001b[49m\n\u001b[1;32m   1994\u001b[0m \u001b[38;5;28;01mif\u001b[39;00m result\u001b[38;5;241m.\u001b[39mdtype \u001b[38;5;129;01mis\u001b[39;00m \u001b[38;5;129;01mnot\u001b[39;00m dtype:\n\u001b[1;32m   1995\u001b[0m     result \u001b[38;5;241m=\u001b[39m np\u001b[38;5;241m.\u001b[39masarray(result, dtype\u001b[38;5;241m=\u001b[39mdtype)\n",
            "File \u001b[0;32m~/Documents/Machine Learning 1/.venv/lib/python3.11/site-packages/pandas/core/internals/managers.py:1694\u001b[0m, in \u001b[0;36mBlockManager.as_array\u001b[0;34m(self, dtype, copy, na_value)\u001b[0m\n\u001b[1;32m   1692\u001b[0m         arr\u001b[38;5;241m.\u001b[39mflags\u001b[38;5;241m.\u001b[39mwriteable \u001b[38;5;241m=\u001b[39m \u001b[38;5;28;01mFalse\u001b[39;00m\n\u001b[1;32m   1693\u001b[0m \u001b[38;5;28;01melse\u001b[39;00m:\n\u001b[0;32m-> 1694\u001b[0m     arr \u001b[38;5;241m=\u001b[39m \u001b[38;5;28;43mself\u001b[39;49m\u001b[38;5;241;43m.\u001b[39;49m\u001b[43m_interleave\u001b[49m\u001b[43m(\u001b[49m\u001b[43mdtype\u001b[49m\u001b[38;5;241;43m=\u001b[39;49m\u001b[43mdtype\u001b[49m\u001b[43m,\u001b[49m\u001b[43m \u001b[49m\u001b[43mna_value\u001b[49m\u001b[38;5;241;43m=\u001b[39;49m\u001b[43mna_value\u001b[49m\u001b[43m)\u001b[49m\n\u001b[1;32m   1695\u001b[0m     \u001b[38;5;66;03m# The underlying data was copied within _interleave, so no need\u001b[39;00m\n\u001b[1;32m   1696\u001b[0m     \u001b[38;5;66;03m# to further copy if copy=True or setting na_value\u001b[39;00m\n\u001b[1;32m   1698\u001b[0m \u001b[38;5;28;01mif\u001b[39;00m na_value \u001b[38;5;129;01mis\u001b[39;00m lib\u001b[38;5;241m.\u001b[39mno_default:\n",
            "File \u001b[0;32m~/Documents/Machine Learning 1/.venv/lib/python3.11/site-packages/pandas/core/internals/managers.py:1753\u001b[0m, in \u001b[0;36mBlockManager._interleave\u001b[0;34m(self, dtype, na_value)\u001b[0m\n\u001b[1;32m   1751\u001b[0m     \u001b[38;5;28;01melse\u001b[39;00m:\n\u001b[1;32m   1752\u001b[0m         arr \u001b[38;5;241m=\u001b[39m blk\u001b[38;5;241m.\u001b[39mget_values(dtype)\n\u001b[0;32m-> 1753\u001b[0m     \u001b[43mresult\u001b[49m\u001b[43m[\u001b[49m\u001b[43mrl\u001b[49m\u001b[38;5;241;43m.\u001b[39;49m\u001b[43mindexer\u001b[49m\u001b[43m]\u001b[49m \u001b[38;5;241m=\u001b[39m arr\n\u001b[1;32m   1754\u001b[0m     itemmask[rl\u001b[38;5;241m.\u001b[39mindexer] \u001b[38;5;241m=\u001b[39m \u001b[38;5;241m1\u001b[39m\n\u001b[1;32m   1756\u001b[0m \u001b[38;5;28;01mif\u001b[39;00m \u001b[38;5;129;01mnot\u001b[39;00m itemmask\u001b[38;5;241m.\u001b[39mall():\n",
            "\u001b[0;31mValueError\u001b[0m: could not convert string to float: 'Kelly, Mr. James'"
          ]
        }
      ],
      "source": [
        "print(titanic.corr())\n",
        "#The code titanic.corr() causes an error because the columns of the given dataset have different data types. For example, Name is a string while the fare is a float."
      ]
    },
    {
      "cell_type": "markdown",
      "metadata": {
        "id": "_v_OG5PPLUcL"
      },
      "source": [
        "# Part 2: Working with Case Studies\n",
        "\n",
        "When working on these case studies, **always ensure that your code is properly documented and clearly presented**. Follow these key principles:  \n",
        "\n",
        "### **1. Always Show Your Code**  \n",
        "- Every step of data exploration, cleaning, and analysis should include **visible code outputs**.  \n",
        "- Do not skip showing your process, as transparency is essential for reproducibility.  \n",
        "\n",
        "### **2. Proper Documentation is Necessary**  \n",
        "- Use **comments (`#`) in Python** to explain your code clearly.  \n",
        "- Add **Markdown cells** to describe each step before executing the code.  \n",
        "- Explain key findings in simple language to make the analysis easy to understand.  \n",
        "\n",
        "### **3. Use Readable and Organized Code**  \n",
        "- Follow a **step-by-step approach** to keep the notebook structured.  \n",
        "- Use **proper variable names** and avoid hardcoding values where possible."
      ]
    },
    {
      "cell_type": "markdown",
      "metadata": {
        "id": "WOzxo0NoFZJ5"
      },
      "source": [
        "# **Case Study 1: Iris Flower Classification** 🌸  \n",
        "\n",
        "### **Background**  \n",
        "A botanical research institute wants to develop an automated system that classifies different species of **iris flowers** based on their **sepal and petal measurements**.  The dataset consists of **150 samples**, labeled as **Setosa, Versicolor, or Virginica**.  \n",
        "\n",
        "### **Problem Statement**  \n",
        "Can we use **sepal and petal dimensions** to correctly classify the **species of an iris flower**?  \n",
        "\n",
        "### **Task Description**  \n",
        "\n",
        "#### **1. Data Exploration**  \n",
        "- Load the dataset and display the first few rows.  \n",
        "- Identify any missing or inconsistent values.  \n",
        "\n",
        "#### **2. Data Cleaning**  \n",
        "- Check for missing values and handle them appropriately.  \n",
        "- Convert categorical species labels into a format suitable for analysis.  \n",
        "\n",
        "#### **3. Basic Data Analysis**  \n",
        "- Find the average sepal and petal dimensions for each species.  \n",
        "- Identify correlations between different flower measurements.  \n",
        "\n",
        "#### **4. Visualization**  \n",
        "- Create simple visualizations (e.g., histograms, scatter plots) to understand data distribution.  \n",
        "\n",
        "#### **5. Insights & Interpretation**  \n",
        "- Summarize key findings, such as which features best distinguish flower species.  "
      ]
    },
    {
      "cell_type": "markdown",
      "metadata": {},
      "source": [
        "PART 1: Data Exploration"
      ]
    },
    {
      "cell_type": "code",
      "execution_count": 20,
      "metadata": {
        "id": "VpnqIg63LiAH"
      },
      "outputs": [
        {
          "name": "stdout",
          "output_type": "stream",
          "text": [
            "   sepal_length  sepal_width  petal_length  petal_width      species\n",
            "0           5.1          3.5           1.4          0.2  Iris-setosa\n",
            "1           4.9          3.0           1.4          0.2  Iris-setosa\n",
            "2           4.7          3.2           1.3          0.2  Iris-setosa\n",
            "3           4.6          3.1           1.5          0.2  Iris-setosa\n",
            "4           5.0          3.6           1.4          0.2  Iris-setosa\n"
          ]
        }
      ],
      "source": [
        "import pandas as pd\n",
        "\n",
        "# Load the dataset and display the first few rows.  \n",
        "irisData = pd.read_csv(\"iris_dataset.csv\")\n",
        "print(irisData.head())"
      ]
    },
    {
      "cell_type": "code",
      "execution_count": 21,
      "metadata": {},
      "outputs": [
        {
          "name": "stdout",
          "output_type": "stream",
          "text": [
            "sepal_length    0\n",
            "sepal_width     0\n",
            "petal_length    0\n",
            "petal_width     0\n",
            "species         0\n",
            "dtype: int64\n"
          ]
        }
      ],
      "source": [
        "# Identify any missing or inconsistent values. \n",
        "missingData = irisData.isnull().sum()\n",
        "print(missingData)"
      ]
    },
    {
      "cell_type": "markdown",
      "metadata": {},
      "source": [
        "PART 2: Data Cleaning"
      ]
    },
    {
      "cell_type": "code",
      "execution_count": 22,
      "metadata": {},
      "outputs": [
        {
          "name": "stdout",
          "output_type": "stream",
          "text": [
            "     sepal_length  sepal_width  petal_length  petal_width          species\n",
            "0             5.1          3.5           1.4          0.2      Iris-setosa\n",
            "50            7.0          3.2           4.7          1.4  Iris-versicolor\n",
            "100           6.3          3.3           6.0          2.5   Iris-virginica\n"
          ]
        }
      ],
      "source": [
        "# Check for missing values and handle them appropriately.  \n",
        "# No need to clean because there are no missing or inconsistent values\n",
        "# Drop duplicates\n",
        "print(irisData.drop_duplicates(subset='species'))"
      ]
    },
    {
      "cell_type": "code",
      "execution_count": 26,
      "metadata": {},
      "outputs": [
        {
          "name": "stdout",
          "output_type": "stream",
          "text": [
            "     sepal_length  sepal_width  petal_length  petal_width   species\n",
            "0             5.1          3.5           1.4          0.2  Flower 1\n",
            "1             4.9          3.0           1.4          0.2  Flower 1\n",
            "2             4.7          3.2           1.3          0.2  Flower 1\n",
            "3             4.6          3.1           1.5          0.2  Flower 1\n",
            "4             5.0          3.6           1.4          0.2  Flower 1\n",
            "..            ...          ...           ...          ...       ...\n",
            "145           6.7          3.0           5.2          2.3  Flower 3\n",
            "146           6.3          2.5           5.0          1.9  Flower 3\n",
            "147           6.5          3.0           5.2          2.0  Flower 3\n",
            "148           6.2          3.4           5.4          2.3  Flower 3\n",
            "149           5.9          3.0           5.1          1.8  Flower 3\n",
            "\n",
            "[150 rows x 5 columns]\n"
          ]
        }
      ],
      "source": [
        "# Convert categorical species labels into a format suitable for analysis.\n",
        "irisData[\"species\"] = irisData[\"species\"].replace({\n",
        "    \"Iris-setosa\": \"Flower 1\",\n",
        "    \"Iris-versicolor\": \"Flower 2\",\n",
        "    \"Iris-virginica\": \"Flower 3\"\n",
        "})\n",
        "\n",
        "print(irisData)  "
      ]
    },
    {
      "cell_type": "markdown",
      "metadata": {},
      "source": [
        "PART 3: Basic Data Analysis"
      ]
    },
    {
      "cell_type": "code",
      "execution_count": 27,
      "metadata": {},
      "outputs": [
        {
          "name": "stdout",
          "output_type": "stream",
          "text": [
            "Average Sepal Length: 5.843333333333334\n",
            "Average Sepal Width: 3.0540000000000003\n",
            "Average Petal Length: 3.758666666666666\n",
            "Average Petal Width: 1.1986666666666668\n"
          ]
        }
      ],
      "source": [
        "# Find the average sepal and petal dimensions for each species.  \n",
        "avSepalLength = irisData['sepal_length'].mean()\n",
        "avSepalWidth = irisData['sepal_width'].mean()\n",
        "avPetalLength = irisData['petal_length'].mean()\n",
        "avPetalWidth = irisData['petal_width'].mean()\n",
        "print(\"Average Sepal Length:\", avSepalLength)\n",
        "print(\"Average Sepal Width:\", avSepalWidth)\n",
        "print(\"Average Petal Length:\", avPetalLength)\n",
        "print(\"Average Petal Width:\", avPetalWidth)\n",
        "\n",
        "\n"
      ]
    },
    {
      "cell_type": "code",
      "execution_count": 28,
      "metadata": {},
      "outputs": [
        {
          "data": {
            "text/html": [
              "<div>\n",
              "<style scoped>\n",
              "    .dataframe tbody tr th:only-of-type {\n",
              "        vertical-align: middle;\n",
              "    }\n",
              "\n",
              "    .dataframe tbody tr th {\n",
              "        vertical-align: top;\n",
              "    }\n",
              "\n",
              "    .dataframe thead th {\n",
              "        text-align: right;\n",
              "    }\n",
              "</style>\n",
              "<table border=\"1\" class=\"dataframe\">\n",
              "  <thead>\n",
              "    <tr style=\"text-align: right;\">\n",
              "      <th></th>\n",
              "      <th>sepal_length</th>\n",
              "      <th>sepal_width</th>\n",
              "      <th>petal_length</th>\n",
              "      <th>petal_width</th>\n",
              "    </tr>\n",
              "  </thead>\n",
              "  <tbody>\n",
              "    <tr>\n",
              "      <th>sepal_length</th>\n",
              "      <td>1.000000</td>\n",
              "      <td>-0.109369</td>\n",
              "      <td>0.871754</td>\n",
              "      <td>0.817954</td>\n",
              "    </tr>\n",
              "    <tr>\n",
              "      <th>sepal_width</th>\n",
              "      <td>-0.109369</td>\n",
              "      <td>1.000000</td>\n",
              "      <td>-0.420516</td>\n",
              "      <td>-0.356544</td>\n",
              "    </tr>\n",
              "    <tr>\n",
              "      <th>petal_length</th>\n",
              "      <td>0.871754</td>\n",
              "      <td>-0.420516</td>\n",
              "      <td>1.000000</td>\n",
              "      <td>0.962757</td>\n",
              "    </tr>\n",
              "    <tr>\n",
              "      <th>petal_width</th>\n",
              "      <td>0.817954</td>\n",
              "      <td>-0.356544</td>\n",
              "      <td>0.962757</td>\n",
              "      <td>1.000000</td>\n",
              "    </tr>\n",
              "  </tbody>\n",
              "</table>\n",
              "</div>"
            ],
            "text/plain": [
              "              sepal_length  sepal_width  petal_length  petal_width\n",
              "sepal_length      1.000000    -0.109369      0.871754     0.817954\n",
              "sepal_width      -0.109369     1.000000     -0.420516    -0.356544\n",
              "petal_length      0.871754    -0.420516      1.000000     0.962757\n",
              "petal_width       0.817954    -0.356544      0.962757     1.000000"
            ]
          },
          "execution_count": 28,
          "metadata": {},
          "output_type": "execute_result"
        }
      ],
      "source": [
        "# Identify correlations between different flower measurements.  \n",
        "irisData[['sepal_length','sepal_width','petal_length','petal_width']].corr()"
      ]
    },
    {
      "cell_type": "markdown",
      "metadata": {},
      "source": [
        "PART 4: Visualization\n",
        "  "
      ]
    },
    {
      "cell_type": "code",
      "execution_count": 32,
      "metadata": {},
      "outputs": [
        {
          "data": {
            "image/png": "[encoded data removed]",
            "text/plain": [
              "<Figure size 1000x600 with 4 Axes>"
            ]
          },
          "metadata": {},
          "output_type": "display_data"
        }
      ],
      "source": [
        "# Create simple visualizations (e.g., histograms, scatter plots) to understand data distribution.  \n",
        "import matplotlib.pyplot as plt\n",
        "\n",
        "irisData.hist(figsize=(10, 6), bins=20, edgecolor=\"black\")\n",
        "plt.suptitle(\"Feature Distributions in Iris Dataset\")\n",
        "plt.show()\n",
        "\n"
      ]
    },
    {
      "cell_type": "markdown",
      "metadata": {},
      "source": [
        "\n",
        "PART 5: Insights & Interpretation\n"
      ]
    },
    {
      "cell_type": "markdown",
      "metadata": {},
      "source": [
        "# Summarize key findings, such as which features best distinguish flower species.\n",
        "Petal length and width are the most distinctive features for classifying iris species. As we can see on the histogram, they show a clear difference between species and show a noticeable gap as compared with l length and width."
      ]
    },
    {
      "cell_type": "markdown",
      "metadata": {
        "id": "acBPPZF1LN1S"
      },
      "source": [
        "# **Case Study 2: Netflix Content Analysis** 🎬  \n",
        "\n",
        "## **Background**  \n",
        "Netflix is a leading streaming platform with a vast collection of movies and TV shows. The company wants to analyze its **content library** to understand trends in **genres, release years, and regional distribution**.  \n",
        "\n",
        "## **Problem Statement**  \n",
        "How can we use **Netflix’s dataset** to gain insights into content distribution, popular genres, and release trends over time?  \n",
        "\n",
        "## **Task Description**  \n",
        "\n",
        "### **1. Data Exploration**  \n",
        "- Load the dataset and inspect its structure.  \n",
        "- Identify key columns such as title, genre, release year, and country.  \n",
        "\n",
        "### **2. Data Cleaning**  \n",
        "- Check for missing or incorrect values in key columns.  \n",
        "- Remove duplicates and format the date-related data properly.  \n",
        "\n",
        "### **3. Basic Data Analysis**  \n",
        "- Count the number of movies vs. TV shows.  \n",
        "- Identify the most common genres and countries producing content.  \n",
        "- Analyze the number of releases per year to observe trends.  \n",
        "\n",
        "### **4. Insights & Interpretation**  \n"
      ]
    },
    {
      "cell_type": "markdown",
      "metadata": {},
      "source": [
        "1. DATA EXPLORATION"
      ]
    },
    {
      "cell_type": "code",
      "execution_count": 33,
      "metadata": {
        "id": "Vrd7hTehLigX"
      },
      "outputs": [
        {
          "name": "stdout",
          "output_type": "stream",
          "text": [
            "     show_id     type                  title         director  \\\n",
            "0         s1    Movie   Dick Johnson Is Dead  Kirsten Johnson   \n",
            "1         s2  TV Show          Blood & Water              NaN   \n",
            "2         s3  TV Show              Ganglands  Julien Leclercq   \n",
            "3         s4  TV Show  Jailbirds New Orleans              NaN   \n",
            "4         s5  TV Show           Kota Factory              NaN   \n",
            "...      ...      ...                    ...              ...   \n",
            "8802   s8803    Movie                 Zodiac    David Fincher   \n",
            "8803   s8804  TV Show            Zombie Dumb              NaN   \n",
            "8804   s8805    Movie             Zombieland  Ruben Fleischer   \n",
            "8805   s8806    Movie                   Zoom     Peter Hewitt   \n",
            "8806   s8807    Movie                 Zubaan      Mozez Singh   \n",
            "\n",
            "                                                   cast        country  \\\n",
            "0                                                   NaN  United States   \n",
            "1     Ama Qamata, Khosi Ngema, Gail Mabalane, Thaban...   South Africa   \n",
            "2     Sami Bouajila, Tracy Gotoas, Samuel Jouy, Nabi...            NaN   \n",
            "3                                                   NaN            NaN   \n",
            "4     Mayur More, Jitendra Kumar, Ranjan Raj, Alam K...          India   \n",
            "...                                                 ...            ...   \n",
            "8802  Mark Ruffalo, Jake Gyllenhaal, Robert Downey J...  United States   \n",
            "8803                                                NaN            NaN   \n",
            "8804  Jesse Eisenberg, Woody Harrelson, Emma Stone, ...  United States   \n",
            "8805  Tim Allen, Courteney Cox, Chevy Chase, Kate Ma...  United States   \n",
            "8806  Vicky Kaushal, Sarah-Jane Dias, Raaghav Chanan...          India   \n",
            "\n",
            "              date_added  release_year rating   duration  \\\n",
            "0     September 25, 2021          2020  PG-13     90 min   \n",
            "1     September 24, 2021          2021  TV-MA  2 Seasons   \n",
            "2     September 24, 2021          2021  TV-MA   1 Season   \n",
            "3     September 24, 2021          2021  TV-MA   1 Season   \n",
            "4     September 24, 2021          2021  TV-MA  2 Seasons   \n",
            "...                  ...           ...    ...        ...   \n",
            "8802   November 20, 2019          2007      R    158 min   \n",
            "8803        July 1, 2019          2018  TV-Y7  2 Seasons   \n",
            "8804    November 1, 2019          2009      R     88 min   \n",
            "8805    January 11, 2020          2006     PG     88 min   \n",
            "8806       March 2, 2019          2015  TV-14    111 min   \n",
            "\n",
            "                                              listed_in  \\\n",
            "0                                         Documentaries   \n",
            "1       International TV Shows, TV Dramas, TV Mysteries   \n",
            "2     Crime TV Shows, International TV Shows, TV Act...   \n",
            "3                                Docuseries, Reality TV   \n",
            "4     International TV Shows, Romantic TV Shows, TV ...   \n",
            "...                                                 ...   \n",
            "8802                     Cult Movies, Dramas, Thrillers   \n",
            "8803             Kids' TV, Korean TV Shows, TV Comedies   \n",
            "8804                            Comedies, Horror Movies   \n",
            "8805                 Children & Family Movies, Comedies   \n",
            "8806     Dramas, International Movies, Music & Musicals   \n",
            "\n",
            "                                            description  \n",
            "0     As her father nears the end of his life, filmm...  \n",
            "1     After crossing paths at a party, a Cape Town t...  \n",
            "2     To protect his family from a powerful drug lor...  \n",
            "3     Feuds, flirtations and toilet talk go down amo...  \n",
            "4     In a city of coaching centers known to train I...  \n",
            "...                                                 ...  \n",
            "8802  A political cartoonist, a crime reporter and a...  \n",
            "8803  While living alone in a spooky town, a young g...  \n",
            "8804  Looking to survive in a world taken over by zo...  \n",
            "8805  Dragged from civilian life, a former superhero...  \n",
            "8806  A scrappy but poor boy worms his way into a ty...  \n",
            "\n",
            "[8807 rows x 12 columns]\n"
          ]
        }
      ],
      "source": [
        "# Load dataset and inspect structure\n",
        "\n",
        "netflixData = pd.read_csv('netflix_dataset.csv')\n",
        "print(netflixData)"
      ]
    },
    {
      "cell_type": "code",
      "execution_count": 34,
      "metadata": {},
      "outputs": [
        {
          "name": "stdout",
          "output_type": "stream",
          "text": [
            "                      title  \\\n",
            "0      Dick Johnson Is Dead   \n",
            "1             Blood & Water   \n",
            "2                 Ganglands   \n",
            "3     Jailbirds New Orleans   \n",
            "4              Kota Factory   \n",
            "...                     ...   \n",
            "8802                 Zodiac   \n",
            "8803            Zombie Dumb   \n",
            "8804             Zombieland   \n",
            "8805                   Zoom   \n",
            "8806                 Zubaan   \n",
            "\n",
            "                                              listed_in  release_year  \\\n",
            "0                                         Documentaries          2020   \n",
            "1       International TV Shows, TV Dramas, TV Mysteries          2021   \n",
            "2     Crime TV Shows, International TV Shows, TV Act...          2021   \n",
            "3                                Docuseries, Reality TV          2021   \n",
            "4     International TV Shows, Romantic TV Shows, TV ...          2021   \n",
            "...                                                 ...           ...   \n",
            "8802                     Cult Movies, Dramas, Thrillers          2007   \n",
            "8803             Kids' TV, Korean TV Shows, TV Comedies          2018   \n",
            "8804                            Comedies, Horror Movies          2009   \n",
            "8805                 Children & Family Movies, Comedies          2006   \n",
            "8806     Dramas, International Movies, Music & Musicals          2015   \n",
            "\n",
            "            country  \n",
            "0     United States  \n",
            "1      South Africa  \n",
            "2               NaN  \n",
            "3               NaN  \n",
            "4             India  \n",
            "...             ...  \n",
            "8802  United States  \n",
            "8803            NaN  \n",
            "8804  United States  \n",
            "8805  United States  \n",
            "8806          India  \n",
            "\n",
            "[8807 rows x 4 columns]\n"
          ]
        }
      ],
      "source": [
        "# Identify key columns such as title, genre, release year, and country.  \n",
        "print(netflixData[['title', 'listed_in', 'release_year', 'country']])"
      ]
    },
    {
      "cell_type": "markdown",
      "metadata": {},
      "source": [
        "2. DATA CLEANING"
      ]
    },
    {
      "cell_type": "code",
      "execution_count": 35,
      "metadata": {},
      "outputs": [
        {
          "name": "stdout",
          "output_type": "stream",
          "text": [
            "title             0\n",
            "listed_in         0\n",
            "release_year      0\n",
            "country         831\n",
            "dtype: int64\n"
          ]
        }
      ],
      "source": [
        "# Check for missing or incorrect values in key columns.  \n",
        "print(netflixData[['title', 'listed_in', 'release_year', 'country']].isnull().sum())"
      ]
    },
    {
      "cell_type": "code",
      "execution_count": 40,
      "metadata": {},
      "outputs": [],
      "source": [
        "# Remove duplicates and format the date-related data properly.  \n",
        "netflixData = netflixData.drop_duplicates()\n"
      ]
    },
    {
      "cell_type": "markdown",
      "metadata": {},
      "source": [
        "3. BASIC DATA ANALYSIS"
      ]
    },
    {
      "cell_type": "code",
      "execution_count": 41,
      "metadata": {},
      "outputs": [
        {
          "name": "stdout",
          "output_type": "stream",
          "text": [
            "type\n",
            "Movie      6131\n",
            "TV Show    2676\n",
            "Name: count, dtype: int64\n"
          ]
        }
      ],
      "source": [
        "# Count the number of movies vs. TV shows. \n",
        "print(netflixData['type'].value_counts())"
      ]
    },
    {
      "cell_type": "code",
      "execution_count": 42,
      "metadata": {},
      "outputs": [
        {
          "name": "stdout",
          "output_type": "stream",
          "text": [
            "listed_in\n",
            "Dramas, International Movies                        362\n",
            "Documentaries                                       359\n",
            "Stand-Up Comedy                                     334\n",
            "Comedies, Dramas, International Movies              274\n",
            "Dramas, Independent Movies, International Movies    252\n",
            "Name: count, dtype: int64\n",
            "country\n",
            "United States     2818\n",
            "India              972\n",
            "United Kingdom     419\n",
            "Japan              245\n",
            "South Korea        199\n",
            "Name: count, dtype: int64\n"
          ]
        }
      ],
      "source": [
        "# Identify the most common genres and countries producing content.  \n",
        "print(netflixData['listed_in'].value_counts().head())\n",
        "print(netflixData['country'].value_counts().head())"
      ]
    },
    {
      "cell_type": "code",
      "execution_count": 43,
      "metadata": {},
      "outputs": [
        {
          "data": {
            "image/png": "[encoded data removed]",
            "text/plain": [
              "<Figure size 1000x500 with 1 Axes>"
            ]
          },
          "metadata": {},
          "output_type": "display_data"
        }
      ],
      "source": [
        "# Analyze the number of releases per year to observe trends.\n",
        "import matplotlib.pyplot as plt\n",
        "\n",
        "releases_per_year = netflixData['release_year'].value_counts().sort_index()\n",
        "\n",
        "plt.figure(figsize=(10, 5))\n",
        "plt.plot(releases_per_year.index, releases_per_year.values, marker='o', linestyle='-')\n",
        "plt.xlabel('Release Year')\n",
        "plt.ylabel('Number of Releases')\n",
        "plt.title('Number of Releases Per Year')\n",
        "plt.grid(True)\n",
        "plt.show()"
      ]
    },
    {
      "cell_type": "markdown",
      "metadata": {},
      "source": [
        "4. INSIGHTS & INTERPRETATION"
      ]
    },
    {
      "cell_type": "code",
      "execution_count": null,
      "metadata": {},
      "outputs": [
        {
          "name": "stdout",
          "output_type": "stream",
          "text": [
            "Key Findings:\n",
            "\n",
            "1. Content Type Distribution:\n",
            "type\n",
            "Movie      6131\n",
            "TV Show    2676\n",
            "Name: count, dtype: int64\n",
            "\n",
            "2. Most Common Genres:\n",
            "listed_in\n",
            "Dramas, International Movies                        362\n",
            "Documentaries                                       359\n",
            "Stand-Up Comedy                                     334\n",
            "Comedies, Dramas, International Movies              274\n",
            "Dramas, Independent Movies, International Movies    252\n",
            "Name: count, dtype: int64\n",
            "\n",
            "3. Top Countries Producing Content:\n",
            "country\n",
            "United States     2818\n",
            "India              972\n",
            "United Kingdom     419\n",
            "Japan              245\n",
            "South Korea        199\n",
            "Name: count, dtype: int64\n",
            "\n",
            "4. Trend in Netflix Content Production Over Time:\n",
            "release_year\n",
            "2012     237\n",
            "2013     288\n",
            "2014     352\n",
            "2015     560\n",
            "2016     902\n",
            "2017    1032\n",
            "2018    1147\n",
            "2019    1030\n",
            "2020     953\n",
            "2021     592\n",
            "Name: count, dtype: int64\n"
          ]
        }
      ],
      "source": [
        "# Summarize key findings, such as trends in Netflix's content production over time.  \n",
        "\n",
        "# The graph shows the number of Netflix releases per year, revealing a sharp increase in content production \n",
        "# starting around the early 2010s. Before 2000, the number of releases was minimal, with little to no growth.\n",
        "# However, from 2010 onwards, there was a rapid rise, peaking around 2020 with over 1,000 releases. After 2020, \n",
        "# there was a noticeable decline, suggesting a slowdown in content production."
      ]
    }
  ],
  "metadata": {
    "colab": {
      "provenance": []
    },
    "kernelspec": {
      "display_name": "Python (.venv)",
      "language": "python",
      "name": ".venv"
    },
    "language_info": {
      "codemirror_mode": {
        "name": "ipython",
        "version": 3
      },
      "file_extension": ".py",
      "mimetype": "text/x-python",
      "name": "python",
      "nbconvert_exporter": "python",
      "pygments_lexer": "ipython3",
      "version": "3.11.2"
    }
  },
  "nbformat": 4,
  "nbformat_minor": 0
}
